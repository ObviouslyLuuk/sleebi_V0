{
 "cells": [
  {
   "cell_type": "code",
   "execution_count": 99,
   "metadata": {},
   "outputs": [],
   "source": [
    "import re"
   ]
  },
  {
   "cell_type": "code",
   "execution_count": 100,
   "metadata": {},
   "outputs": [],
   "source": [
    "# Combine and minify all CSS files in css/\n",
    "css_order = [\n",
    "    \"css/style.css\",\n",
    "    \"css/home.css\",\n",
    "    \"css/results.css\",\n",
    "    \"css/watch.css\",\n",
    "    \"css/player.css\",\n",
    "    \"css/vid_tiles.css\",\n",
    "]\n",
    "\n",
    "css = ''\n",
    "for filename in css_order:\n",
    "    with open(filename) as f:\n",
    "        css += f.read()\n",
    "\n",
    "# Remove comments\n",
    "css = re.sub(r'/\\*.*?\\*/', '', css)\n",
    "\n",
    "# Remove whitespace\n",
    "css = re.sub(r'\\s+', ' ', css)\n",
    "\n",
    "# Remove unnecessary whitespace\n",
    "css = re.sub(r'\\s*([:;,{}])\\s*', r'\\1', css)\n",
    "\n",
    "# Write minified file\n",
    "with open('css/styles.min.css', 'w+') as f:\n",
    "    f.write(css)"
   ]
  },
  {
   "cell_type": "code",
   "execution_count": 101,
   "metadata": {},
   "outputs": [],
   "source": [
    "# Combine and minify all critical JS files\n",
    "critical_js = [\n",
    "    # \"data/video_basics.js\",\n",
    "    \"js/util/redirect.js\",\n",
    "    \"js/util/helpers.js\",\n",
    "    \"js/util/elements.js\",\n",
    "    \"js/util/search.js\",\n",
    "    \"js/home.js\",\n",
    "    \"js/results.js\",\n",
    "    \"js/watch.js\",\n",
    "    \"js/base.js\",\n",
    "]\n",
    "\n",
    "js = ''\n",
    "for filename in critical_js:\n",
    "    with open(filename) as f:\n",
    "        js += f.read()\n",
    "\n",
    "# Remove JS comments, making sure not to remove :// in URLs\n",
    "js = re.sub(r'(?<!:)//.*', '', js)\n",
    "js = re.sub(r'/\\*.*?\\*/', '', js)\n",
    "\n",
    "# Remove whitespace\n",
    "js = re.sub(r'\\s+', ' ', js)\n",
    "\n",
    "# Remove unnecessary whitespace, making sure not to do this inside strings between ', \" and `\n",
    "js = re.sub(r'\\s*([:;,()=+!<>])\\s*', r'\\1', js)\n",
    "\n",
    "# Write minified file\n",
    "with open('js/critical.min.js', 'w+') as f:\n",
    "    f.write(js)"
   ]
  }
 ],
 "metadata": {
  "kernelspec": {
   "display_name": "Python 3",
   "language": "python",
   "name": "python3"
  },
  "language_info": {
   "codemirror_mode": {
    "name": "ipython",
    "version": 3
   },
   "file_extension": ".py",
   "mimetype": "text/x-python",
   "name": "python",
   "nbconvert_exporter": "python",
   "pygments_lexer": "ipython3",
   "version": "3.11.5"
  }
 },
 "nbformat": 4,
 "nbformat_minor": 2
}
