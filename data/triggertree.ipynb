{
 "cells": [
  {
   "cell_type": "code",
   "execution_count": null,
   "metadata": {},
   "outputs": [],
   "source": [
    "import json\n",
    "\n",
    "with open('triggers.json') as f:\n",
    "    data = json.load(f)\n",
    "\n",
    "display(data)"
   ]
  },
  {
   "cell_type": "code",
   "execution_count": null,
   "metadata": {},
   "outputs": [],
   "source": [
    "def flatten(nested):\n",
    "    l = []\n",
    "    for key, value in nested.items():\n",
    "        l.append((key, value))\n",
    "        if isinstance(value, dict):\n",
    "            l.extend(flatten(value))\n",
    "    return l\n",
    "\n",
    "triggers = flatten(data)\n",
    "\n",
    "from collections import defaultdict\n",
    "duplicates = defaultdict(list)\n",
    "\n",
    "# Check for duplicates and print them\n",
    "for trigger, children in triggers:\n",
    "    duplicates[trigger].append(children)\n",
    "duplicates = {k:v for k,v in duplicates.items() if len(v)>1}\n",
    "print(len(duplicates))\n",
    "display(duplicates)\n",
    "\n",
    "# When duplicates happen, it just means that the trigger is used in multiple places in the hierarchy.\n",
    "# This is fine, but there can only be one instance per trigger so we use the first one and apply it to the duplicates."
   ]
  }
 ],
 "metadata": {
  "kernelspec": {
   "display_name": "Python 3",
   "language": "python",
   "name": "python3"
  },
  "language_info": {
   "codemirror_mode": {
    "name": "ipython",
    "version": 3
   },
   "file_extension": ".py",
   "mimetype": "text/x-python",
   "name": "python",
   "nbconvert_exporter": "python",
   "pygments_lexer": "ipython3",
   "version": "3.11.5"
  }
 },
 "nbformat": 4,
 "nbformat_minor": 2
}
