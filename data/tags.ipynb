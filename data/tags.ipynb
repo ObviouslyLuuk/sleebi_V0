{
 "cells": [
  {
   "cell_type": "code",
   "execution_count": null,
   "metadata": {},
   "outputs": [],
   "source": [
    "import json\n",
    "\n",
    "with open('video_basics.json') as f:\n",
    "    data = json.load(f)"
   ]
  },
  {
   "cell_type": "markdown",
   "metadata": {},
   "source": [
    "# Create tag tree from existing tags"
   ]
  },
  {
   "cell_type": "code",
   "execution_count": null,
   "metadata": {},
   "outputs": [],
   "source": [
    "all_tags = set()\n",
    "for video in data.values():\n",
    "    tags = video['tags']\n",
    "    for tag in tags:\n",
    "        # Filter out non-ascii characters\n",
    "        tag = ''.join([c for c in tag if ord(c) < 128])\n",
    "        tag = tag.lower()\n",
    "        tag = tag.split(' ')\n",
    "        tag = [t for t in tag if t not in ['asmr','',' '] and t.isalpha()]\n",
    "        tag = ' '.join(tag)\n",
    "        if tag in ['', ' ']:\n",
    "            continue\n",
    "        all_tags.add(tag)\n",
    "\n",
    "# Create tree structure for tags\n",
    "# If a tag is a substring of another tag, it is a child of that tag\n",
    "# If a tag is a superset of another tag, it is a parent of that tag\n",
    "# If a tag is neither a parent nor a child of another tag, it is a root tag\n",
    "def create_tree(tags):\n",
    "    tags = list(tags)\n",
    "\n",
    "    # First create a dictionary of all tags\n",
    "    tag_dict = {}\n",
    "    for tag in tags:\n",
    "        tag_dict[tag] = {'children': set(), 'parents': set()}\n",
    "    # Then add children and parents\n",
    "    for i, tag in enumerate(tags):\n",
    "        for other_tag in tags[i+1:]:\n",
    "            if tag in other_tag:\n",
    "                tag_dict[tag]['children'].add(other_tag)\n",
    "                tag_dict[other_tag]['parents'].add(tag)\n",
    "            elif other_tag in tag:\n",
    "                tag_dict[tag]['parents'].add(other_tag)\n",
    "                tag_dict[other_tag]['children'].add(tag)\n",
    "    # Then find roots\n",
    "    roots = set()\n",
    "    for tag in tags:\n",
    "        if len(tag_dict[tag]['parents']) == 0:\n",
    "            roots.add(tag)\n",
    "    # Each tag should have at most one parent, the longest parent\n",
    "    for tag in tags:\n",
    "        parents = list(tag_dict[tag]['parents'])\n",
    "        if len(parents) > 1:\n",
    "            longest_parent = max(parents, key=len)\n",
    "            # Remove tag from all other parents\n",
    "            for parent in parents:\n",
    "                if parent != longest_parent:\n",
    "                    tag_dict[parent]['children'].remove(tag)\n",
    "            tag_dict[tag]['parents'] = set([longest_parent])\n",
    "    # Then create tree\n",
    "    tree = {}\n",
    "    for root in roots:\n",
    "        tree[root] = create_subtree(root, tag_dict)\n",
    "    return tree\n",
    "\n",
    "def create_subtree(tag, tag_dict):\n",
    "    subtree = {}\n",
    "    for child in tag_dict[tag]['children']:\n",
    "        subtree[child] = create_subtree(child, tag_dict)\n",
    "    return subtree\n",
    "\n",
    "tree = create_tree(all_tags)\n",
    "\n",
    "display(tree)"
   ]
  }
 ],
 "metadata": {
  "kernelspec": {
   "display_name": "Python 3",
   "language": "python",
   "name": "python3"
  },
  "language_info": {
   "codemirror_mode": {
    "name": "ipython",
    "version": 3
   },
   "file_extension": ".py",
   "mimetype": "text/x-python",
   "name": "python",
   "nbconvert_exporter": "python",
   "pygments_lexer": "ipython3",
   "version": "3.11.5"
  }
 },
 "nbformat": 4,
 "nbformat_minor": 2
}
