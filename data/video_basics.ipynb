{
 "cells": [
  {
   "cell_type": "code",
   "execution_count": 2,
   "metadata": {},
   "outputs": [],
   "source": [
    "import json\n",
    "import gzip\n",
    "\n",
    "VIDEO_IDS = [\n",
    "    'demo480x852',\n",
    "    '-9R09WrLmZc',\n",
    "    '5JN3o0Q-IgA',\n",
    "    'cAmIxLEANHo',\n",
    "    'dt4YRc4UqK8',\n",
    "    'J_ldPXab1f4',\n",
    "    'JoLI3GYuB_A',\n",
    "    'NJoFdZFvfcc',\n",
    "    'PjaBwZkamDQ',\n",
    "    'pXIXpfWyUNE',\n",
    "    'TpvoB80j3Zo',\n",
    "    'U2TLtSdQjpo',\n",
    "    'uOXj-T5D4jQ',\n",
    "    'w1QPVe9jqlM',\n",
    "    'xD90_Gh-IKo',\n",
    "    'XIcjH3a98-c',\n",
    "    'YNMoz3OZ1JQ'\n",
    "]"
   ]
  },
  {
   "cell_type": "code",
   "execution_count": 3,
   "metadata": {},
   "outputs": [],
   "source": [
    "with open('video_basics_all.json', 'r') as f:\n",
    "    data = json.load(f)\n",
    "\n",
    "# Only keep VIDEO_IDS as keys\n",
    "selection = {k: v for k, v in data.items() if k in VIDEO_IDS}\n",
    "selection_json = json.dumps(selection)\n",
    "\n",
    "# with gzip.GzipFile('video_basics.json.gz', 'w') as f:\n",
    "#     f.write(selection_json.encode('utf-8'))\n",
    "\n",
    "# Save as JS, setting a global variable videos_info\n",
    "with open('video_basics.js', 'w') as f:\n",
    "    f.write('var videos_info = ')\n",
    "    f.write(selection_json)\n",
    "    f.write(';')"
   ]
  }
 ],
 "metadata": {
  "kernelspec": {
   "display_name": "Python 3",
   "language": "python",
   "name": "python3"
  },
  "language_info": {
   "codemirror_mode": {
    "name": "ipython",
    "version": 3
   },
   "file_extension": ".py",
   "mimetype": "text/x-python",
   "name": "python",
   "nbconvert_exporter": "python",
   "pygments_lexer": "ipython3",
   "version": "3.11.5"
  }
 },
 "nbformat": 4,
 "nbformat_minor": 2
}
