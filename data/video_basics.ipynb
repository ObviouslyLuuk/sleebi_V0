{
 "cells": [
  {
   "cell_type": "code",
   "execution_count": null,
   "metadata": {},
   "outputs": [],
   "source": [
    "import json\n",
    "import gzip\n",
    "\n",
    "VIDEO_IDS = [\n",
    "    'demo480x852',\n",
    "    'nNGbZk0sLWQ',\n",
    "    '-9R09WrLmZc',\n",
    "    '5JN3o0Q-IgA',\n",
    "    'cAmIxLEANHo',\n",
    "    'dt4YRc4UqK8',\n",
    "    'J_ldPXab1f4',\n",
    "    'JoLI3GYuB_A',\n",
    "    'NJoFdZFvfcc',\n",
    "    'PjaBwZkamDQ',\n",
    "    'pXIXpfWyUNE',\n",
    "    'TpvoB80j3Zo',\n",
    "    'U2TLtSdQjpo',\n",
    "    'uOXj-T5D4jQ',\n",
    "    'w1QPVe9jqlM',\n",
    "    'xD90_Gh-IKo',\n",
    "    'XIcjH3a98-c',\n",
    "    'YNMoz3OZ1JQ'\n",
    "]"
   ]
  },
  {
   "cell_type": "code",
   "execution_count": null,
   "metadata": {},
   "outputs": [],
   "source": [
    "with open('demo_basics.json', 'r') as f:\n",
    "    data = json.load(f)\n",
    "with open('video_basics_all.json', 'r') as f:\n",
    "    data.update(json.load(f))\n",
    "len(data)"
   ]
  },
  {
   "cell_type": "code",
   "execution_count": null,
   "metadata": {},
   "outputs": [],
   "source": [
    "import scrapetube\n",
    "from scrape import get_basics_from_html_request\n",
    "\n",
    "# Get all video ids from the channel with scrapetube\n",
    "channel_id = 'UChXogayC52mlROq-N71_f5g'\n",
    "st_video_data = scrapetube.get_channel(channel_id)\n",
    "video_ids = [video['videoId'] for video in st_video_data]\n",
    "\n",
    "# For all video ids not already in the data, get the basics\n",
    "for video_id in video_ids:\n",
    "    if video_id in data:\n",
    "        continue\n",
    "    data[video_id] = get_basics_from_html_request(video_id)\n",
    "    print(video_id, data[video_id]['title'])\n",
    "\n",
    "# Save the data\n",
    "with open('video_basics_all.json', 'w') as f:\n",
    "    json.dump(data, f)\n",
    "\n",
    "len(data)"
   ]
  },
  {
   "cell_type": "code",
   "execution_count": null,
   "metadata": {},
   "outputs": [],
   "source": [
    "# Only keep VIDEO_IDS as keys\n",
    "selection = {k: v for k, v in data.items() if k in VIDEO_IDS}\n",
    "\n",
    "for video_id, video in selection.items():\n",
    "    # Shorten description: for each description, cut all text after \"Go ahead and stalk me:\"\n",
    "    description = video['description']\n",
    "    if 'Go ahead and stalk me:' in description:\n",
    "        description = description.split('Go ahead and stalk me:')[0]\n",
    "    selection[video_id]['description'] = description\n",
    "\n",
    "    selection[video_id].pop('uploaded', None)\n",
    "    selection[video_id].pop('thumbnail_url', None)\n",
    "    selection[video_id].pop('channel_icon_url', None)\n",
    "\n",
    "selection_json = json.dumps(selection, separators=(',', ':'))\n",
    "\n",
    "# with gzip.GzipFile('video_basics.json.gz', 'w') as f:\n",
    "#     f.write(selection_json.encode('utf-8'))\n",
    "\n",
    "# Save as JS, setting a global variable videos_info\n",
    "with open('video_basics.js', 'w') as f:\n",
    "    f.write('var videos_info=')\n",
    "    f.write(selection_json)\n",
    "    f.write(';')"
   ]
  }
 ],
 "metadata": {
  "kernelspec": {
   "display_name": "Python 3",
   "language": "python",
   "name": "python3"
  },
  "language_info": {
   "codemirror_mode": {
    "name": "ipython",
    "version": 3
   },
   "file_extension": ".py",
   "mimetype": "text/x-python",
   "name": "python",
   "nbconvert_exporter": "python",
   "pygments_lexer": "ipython3",
   "version": "3.11.5"
  }
 },
 "nbformat": 4,
 "nbformat_minor": 2
}
